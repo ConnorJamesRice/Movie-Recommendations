{
  "cells": [
    {
      "cell_type": "markdown",
      "metadata": {
        "id": "view-in-github",
        "colab_type": "text"
      },
      "source": [
        "<a href=\"https://colab.research.google.com/github/ConnorJamesRice/Movie-Recommendations-/blob/main/matrix_completion_and_recommendation_systems_started_code_(1).ipynb\" target=\"_parent\"><img src=\"https://colab.research.google.com/assets/colab-badge.svg\" alt=\"Open In Colab\"/></a>"
      ]
    },
    {
      "cell_type": "markdown",
      "source": [
        "# Matrix Completion and Recommendation System\n",
        "\n",
        "We will use the 100K MovieLens dataset available at https://grouplens.org/datasets/movielens/100k/ to estimate unknown user ratings given their previous ratings.\n",
        "\n",
        "Create a copy of this notebook and upload to Google Colad. Download the dataset and upload ``u.data`` under the \"Files\" tab in the sidebar (**NOTE:** you will need to re-upload this file if you disconnect and delete the current runtime)."
      ],
      "metadata": {
        "id": "ofxrSTrclA0u"
      }
    },
    {
      "cell_type": "code",
      "execution_count": 3,
      "metadata": {
        "id": "aO1zQE45kza0"
      },
      "outputs": [],
      "source": [
        "import csv\n",
        "import numpy as np\n",
        "from scipy.sparse.linalg import svds\n",
        "import matplotlib.pyplot as plt\n",
        "from statistics import fmean\n",
        "import time"
      ]
    },
    {
      "cell_type": "markdown",
      "source": [
        "Let's load the 100K MovieLens data."
      ],
      "metadata": {
        "id": "9ZNgGlPOnVZp"
      }
    },
    {
      "cell_type": "code",
      "source": [
        "data = []\n",
        "with open('u.data') as csvfile:\n",
        "    spamreader = csv.reader(csvfile, delimiter='\\t')\n",
        "    for row in spamreader:\n",
        "        data.append([int(row[0])-1, int(row[1])-1, int(row[2])])\n",
        "data = np.array(data)\n",
        "\n",
        "num_observations = len(data)  # num_observations = 100,000\n",
        "num_users = max(data[:,0])+1  # num_users = 943, indexed 0,...,942\n",
        "num_items = max(data[:,1])+1  # num_items = 1682 indexed 0,...,1681\n",
        "\n",
        "np.random.seed(1)\n",
        "num_train = int(0.8*num_observations)\n",
        "perm = np.random.permutation(data.shape[0])\n",
        "train = data[perm[0:num_train],:]\n",
        "test = data[perm[num_train::],:]\n",
        "\n",
        "print(f\"Successfully loaded 100K MovieLens dataset with\",\n",
        "      f\"{len(train)} training samples and {len(test)} test samples\")"
      ],
      "metadata": {
        "id": "pv_V_YC7nU6a",
        "colab": {
          "base_uri": "https://localhost:8080/"
        },
        "outputId": "abedda00-e52b-4721-b4cd-38b9cef0c495"
      },
      "execution_count": 4,
      "outputs": [
        {
          "output_type": "stream",
          "name": "stdout",
          "text": [
            "Successfully loaded 100K MovieLens dataset with 80000 training samples and 20000 test samples\n"
          ]
        }
      ]
    },
    {
      "cell_type": "markdown",
      "source": [
        "Our first estimator pools all users together and, for each movie, outputs as its prediction the average user rating of that movie in ``train``. That is, if $\\mu \\in \\mathbb{R}^m$ is a vector where $\\mu_i$ is the average rating of the users that rated the $i$-th movie. Write this estimator $\\widehat{R}$ as a rank-one matrix.\n",
        "\n",
        "Compute the estimate $\\widehat{R}$. What is $\\mathcal{E}_{\\rm test} (\\widehat{R})$ for this estimate?"
      ],
      "metadata": {
        "id": "2mkeYWwdniAS"
      }
    },
    {
      "cell_type": "code",
      "execution_count": 5,
      "metadata": {
        "id": "vy3n5ljTkza3",
        "colab": {
          "base_uri": "https://localhost:8080/"
        },
        "outputId": "1f0bda16-1bd2-40ca-ea07-ae38d80c2b83"
      },
      "outputs": [
        {
          "output_type": "execute_result",
          "data": {
            "text/plain": [
              "1.0532428361498423"
            ]
          },
          "metadata": {},
          "execution_count": 5
        }
      ],
      "source": [
        "# Compute estimate\n",
        "uniques = np.unique(train[:, 1])\n",
        "averages = [np.mean(train[train[:, 1] == u, 2]) for u in uniques]\n",
        "# Give the average movie rating as a default value, for any movies that do not have any rating data\n",
        "mu = fmean(averages) * np.ones(num_items)\n",
        "# Populate the vector mu with the per-movie averages\n",
        "mu[uniques] = averages\n",
        "R_hat = np.repeat(mu[:, None], num_users, axis=1)\n",
        "# Evaluate test error\n",
        "estimate = R_hat[test[:, 1], test[:, 0]]\n",
        "error = np.sum((estimate - test[:, 2]) ** 2) / len(estimate)\n",
        "error\n"
      ]
    },
    {
      "cell_type": "markdown",
      "source": [
        "Creating a matrix $\\widetilde{R}_{i, j} \\in \\mathbb{R}^{m \\times n}$ and set its entries equal to the known values in the training set, and $0$ otherwise.\n",
        "\n",
        "Let $\\widehat{R}^{(d)}$ be the best rank-$d$ approximation (in terms of squared error) approximation to $\\widetilde{R}$. This is equivalent to computing the singular value decomposition (SVD) and using the top $d$ singular values. This learns a lower-dimensional vector representation for users and movies, assuming that each user would give a rating of $0$ to any movie they have not reviewed.\n",
        "\n",
        "- For each $d = 1, 2, 5, 10, 20, 50$, compute the estimator $\\widehat{R}^{(d)}$.\n",
        "- Plots the average squared error of predictions on the training set and test set on a single plot, as a function of $d$."
      ],
      "metadata": {
        "id": "y7BoyoWHpl2g"
      }
    },
    {
      "cell_type": "code",
      "execution_count": 6,
      "metadata": {
        "id": "W6t87ACNkza5",
        "colab": {
          "base_uri": "https://localhost:8080/"
        },
        "outputId": "f21bff27-f360-4afe-c9ec-6e28f59f635d"
      },
      "outputs": [
        {
          "output_type": "execute_result",
          "data": {
            "text/plain": [
              "array([[0., 4., 0., ..., 0., 0., 0.],\n",
              "       [3., 0., 0., ..., 0., 0., 5.],\n",
              "       [0., 0., 0., ..., 0., 0., 0.],\n",
              "       ...,\n",
              "       [0., 0., 0., ..., 0., 0., 0.],\n",
              "       [0., 0., 0., ..., 0., 0., 0.],\n",
              "       [0., 0., 0., ..., 0., 0., 0.]])"
            ]
          },
          "metadata": {},
          "execution_count": 6
        }
      ],
      "source": [
        "# Create the matrix R twiddle (\\widetilde{R}).\n",
        "R_twiddle = np.zeros((num_items, num_users))\n",
        "R_twiddle[train[:, 1], train[:, 0]] = train[:, 2]\n",
        "R_twiddle"
      ]
    },
    {
      "cell_type": "code",
      "execution_count": 7,
      "metadata": {
        "id": "HWf-Umhdkza5",
        "colab": {
          "base_uri": "https://localhost:8080/"
        },
        "outputId": "f4a3aec3-3cc4-4109-8bf3-86fdadd1c756"
      },
      "outputs": [
        {
          "output_type": "stream",
          "name": "stdout",
          "text": [
            "error: 8.2610336451543\n"
          ]
        }
      ],
      "source": [
        "def construct_estimator(d, r_twiddle):\n",
        "  return svds(r_twiddle, d)\n",
        "\n",
        "def get_error(d, r_twiddle, dataset):\n",
        "  estimates = np.zeros(len(dataset))\n",
        "  u, s, v = construct_estimator(d, R_twiddle)\n",
        "  for i in range(len(estimates)):\n",
        "    estimates[i] = np.dot(s * u[dataset[i, 1], :], v[:, dataset[i, 0]])\n",
        "  return np.sum((estimates - dataset[:, 2]) ** 2) / len(estimates)\n",
        "\n",
        "print('error:', get_error(50, R_twiddle, test))"
      ]
    },
    {
      "cell_type": "code",
      "execution_count": 8,
      "metadata": {
        "id": "Y6uMbMhGkza6",
        "colab": {
          "base_uri": "https://localhost:8080/",
          "height": 475
        },
        "outputId": "6930e9be-b5a5-4fb8-be2a-1517fa743a4c"
      },
      "outputs": [
        {
          "output_type": "display_data",
          "data": {
            "text/plain": [
              "<Figure size 640x480 with 1 Axes>"
            ],
            "image/png": "[encoded data removed]"
          },
          "metadata": {}
        }
      ],
      "source": [
        "# Evaluating train and test error for: d = 1, 2, 5, 10, 20, 50.\n",
        "d_vals = [1, 2, 5, 10, 20, 50]\n",
        "train_errors = [get_error(d, R_twiddle, train) for d in d_vals]\n",
        "test_errors = [get_error(d, R_twiddle, test) for d in d_vals]\n",
        "\n",
        "# Plotting both train and test error as a function of d on the same plot.\n",
        "plt.plot(d_vals, train_errors, label='Training error')\n",
        "plt.plot(d_vals, test_errors, label='Testing error')\n",
        "plt.xlabel('SVD dimensionality')\n",
        "plt.ylabel('Error attained')\n",
        "plt.title('Train/test error with $\\widetilde{R}$ SVD estimator')\n",
        "plt.legend(loc='best')\n",
        "plt.show()\n"
      ]
    },
    {
      "cell_type": "markdown",
      "source": [
        "Replacing all missing values by a constant may impose strong and potentially incorrect assumptions on the unobserved entries of $R$. A more reasonable choice is to minimize the mean squared error (MSE) only on rated movies. Define a loss function:\n",
        "$$\n",
        "\\mathcal{L} \\left( \\{u_i\\}_{i=1}^m, \\{v_j\\}_{j=1}^n \\right) :=\n",
        "\\sum_{(i, j, R_{i, j}) \\in {\\rm train}} (\\langle u_i,v_j\\rangle - R_{i,j})^2 +\n",
        "\\lambda \\sum_{i=1}^m \\|u_i\\|_2^2 +\n",
        "\\lambda \\sum_{j=1}^n \\|v_j\\|_2^2\n",
        "$$\n",
        "where $\\lambda > 0$ is the regularization coefficient. We will implement algorithms to learn vector representations by minimizing the above loss.\n",
        "\n",
        "Implement alternating minimization and plots the MSE of ``train`` and ``test`` for $d \\in \\{1, 2, 5, 10, 20, 50\\}$."
      ],
      "metadata": {
        "id": "W8x30SANrqN4"
      }
    },
    {
      "cell_type": "code",
      "execution_count": 9,
      "metadata": {
        "id": "m1Jt9wLzkza6"
      },
      "outputs": [],
      "source": [
        "unique_movies = np.unique(train[:, 1])\n",
        "unique_users = np.unique(train[:, 0])\n",
        "\n",
        "movies_to_users = {u: train[train[:, 1] == u] for u in unique_movies}\n",
        "users_to_movies = {u: train[train[:, 0] == u] for u in unique_users}\n",
        "\n",
        "def closed_form_u(V, U, lam):\n",
        "  new_U, d = (np.zeros_like(U), U.shape[1])\n",
        "\n",
        "  for i, u in enumerate(unique_movies):\n",
        "    V_j = V[movies_to_users[u][:, 0], :]\n",
        "    new_U[u, :] = np.linalg.solve(\n",
        "    np.sum(V_j[:, :, None] @ V_j[:, None, :] + lam * np.eye(d), axis=0),\n",
        "    np.sum(V_j * movies_to_users[u][:, 2][:, None], axis=0)\n",
        "    )\n",
        "\n",
        "  return new_U\n",
        "\n",
        "def closed_form_v(V, U, lam):\n",
        "  new_V, d = (np.zeros_like(V), V.shape[1])\n",
        "\n",
        "  for i, u in enumerate(unique_users):\n",
        "    U_j = U[users_to_movies[u][:, 1], :]\n",
        "    new_V[u, :] = np.linalg.solve(\n",
        "    np.sum(U_j[:, :, None] @ U_j[:, None, :] + lam * np.eye(d), axis=0),\n",
        "    np.sum(U_j * users_to_movies[u][:, 2][:, None], axis=0)\n",
        "    )\n",
        "\n",
        "  return new_V\n",
        "\n",
        "def construct_alternating_estimator(\n",
        "d, r_twiddle, lam=0.0, delta=1e-5, sigma=0.1, U=None, V=None\n",
        "):\n",
        "  U = sigma * np.random.rand(num_items, d)\n",
        "  V = sigma * np.random.rand(num_users, d)\n",
        "\n",
        "  for k in range(10000):\n",
        "    old_U, old_V = (np.copy(U), np.copy(V))\n",
        "    U = closed_form_u(V, U, lam)\n",
        "    V = closed_form_v(V, U, lam)\n",
        "    U_delta, V_delta = (np.max(np.abs(U - old_U)), np.max(np.abs(V - old_V)))\n",
        "    if k % 5 == 0:\n",
        "      print(f'\\rd={d}, Iteration {k}, U delta: {U_delta}, V delta: {V_delta}',\n",
        "      ' ', ' ', end='')\n",
        "      if max(U_delta, V_delta) <= delta:\n",
        "        break\n",
        "\n",
        "  return U, V"
      ]
    },
    {
      "cell_type": "code",
      "execution_count": 10,
      "metadata": {
        "id": "i4SLeTASkza8",
        "colab": {
          "base_uri": "https://localhost:8080/",
          "height": 490
        },
        "outputId": "694425ef-e8c3-45f7-8574-66949d2732b9"
      },
      "outputs": [
        {
          "output_type": "stream",
          "name": "stdout",
          "text": [
            "Finished finding estimations with dimension values [1, 2, 5, 10, 20, 50]  in 254.54563808441162 seconds\n"
          ]
        },
        {
          "output_type": "display_data",
          "data": {
            "text/plain": [
              "<Figure size 640x480 with 1 Axes>"
            ],
            "image/png": "[encoded data removed]"
          },
          "metadata": {}
        }
      ],
      "source": [
        "# Evaluating train and test error for: d = 1, 2, 5, 10, 20, 50.\n",
        "d_vals = [1, 2, 5, 10, 20, 50]\n",
        "\n",
        "datasets, errors = ({'train': train, 'test': test}, {'train': [], 'test': []})\n",
        "start_time = time.time()\n",
        "for d in d_vals:\n",
        "  U, V = construct_alternating_estimator(d, R_twiddle, lam=0.1, delta=0.01)\n",
        "  for s in datasets:\n",
        "    estimates = np.zeros(len(datasets[s]))\n",
        "    for i in range(len(estimates)):\n",
        "      estimates[i] = np.dot(U[datasets[s][i, 1], :], V[datasets[s][i, 0], :])\n",
        "    errors[s].append(np.sum((estimates - datasets[s][:, 2]) ** 2) / len(estimates))\n",
        "\n",
        "print(f'\\rFinished finding estimations with dimension values {d_vals} '\n",
        "  f' in {time.time() - start_time} seconds')\n",
        "\n",
        "# Plotting both train and test error as a function of d on the same plot.\n",
        "plt.plot(d_vals, errors['train'], label='Training error')\n",
        "plt.plot(d_vals, errors['test'], label='Testing error')\n",
        "plt.xlabel('U, V dimensionality')\n",
        "plt.ylabel('Error attained')\n",
        "plt.title('Train/test error with modified U, V estimator')\n",
        "plt.legend(loc='best')\n",
        "plt.show()"
      ]
    },
    {
      "cell_type": "markdown",
      "source": [
        "While what we have above works well for finding movie rating predictions, there is a lack of a hyperparmater search to optimize and minimize the error of our model. One potential supervised learning algorithm we can use to approach this problem is the k-nearest\n",
        "neighbor method: $$\\hat{R}_{ij} = \\frac{1}{K}\\sum_{k\\in N_K(i,j)} R_{kj}$$ Where $N_K(i,j):=\\{K: \\#[r(k, j)] > 0, d(R_k, R_j ) \\leq DK(i, j)\\}$, $D_K(i, j) = max_{s\\in\\mathbb{R}^+}\n",
        "\\{s : \\#[N(i, j)]\\leq K\\}$, $\\#(·)$ is the set cardinality, d(·) is a distance metric, $R_{kj}$ is the entry in the $k^{th}$ row and $j^{th}$ column of our estimator matrix $\\hat{R}$, and $K \\in \\mathbb{N}$ is some amount of desire nearest neighbors.\n",
        "\n",
        "Choosing $d(R_k, R_j) = \\sum_{i\\in r(k,j)} |R_{ik}-R_{ij}|$ as our metric, the following modified regularized k-nearest neighbors estimator $\\hat{R}_{ij}$ can be derived as:\n",
        "$$\\hat{\\mu}_K = \\frac{1}{\\#[N_k(i,j)]}\\sum_{k\\in N_k(i,j)} R_{kj}$$\n",
        "\n",
        "$$ \\hat{R}_{ij}=   \\left\\{\n",
        "\\begin{array}{ll}\n",
        "      \\bar{R}_j & \\text{if } \\#[r(i,j)] = 0 \\\\\n",
        "      \\hat{mu}_K+\\lambda_v\\sigma^2(R_{kj})(\\bar{R}_j-\\hat{\\mu}_K)+\\lambda_\\ell\\frac{H(K-1-\\#[N_k(i,j)])}{\\#[N_k(i,j)]^p}+b & \\text{else}\\\\\n",
        "\\end{array}\n",
        "\\right.$$\n",
        "Where $H(\\cdot)$ is the Heaviside step fucntion."
      ],
      "metadata": {
        "id": "zD0PLeVtTNaI"
      }
    },
    {
      "cell_type": "markdown",
      "source": [
        "##The parameters\n",
        "We will use this model to attempt to find a relatively accurate estimator $\\hat{R}$, including finding an\n",
        "optimal combination of values for all the parameters described above:\n",
        "\n",
        "• K, the number of neighbors to average over.\n",
        "\n",
        "• $\\epsilon$, the skew value to apply to the distance metric d.\n",
        "\n",
        "• $\\lambda_v$, the regularization scale factor multiplied to the variance of the nearest neighbor rating\n",
        "values and shifting the estimate toward the user’s mean rating.\n",
        "\n",
        "• $\\lambda_\\ell$, the regularization scale factor divided by the length (cardinality) of the set of neighbors\n",
        "and shifting the estimate toward the user’s mean rating, but only in the case that there are\n",
        "less than K neighbors.\n",
        "\n",
        "• p, an exponent applied to the cardinality of the set of neighbors in the denominator of the\n",
        "term associated with the regularization factor $\\lambda_\\ell$.\n",
        "\n",
        "• b, a bias term added to all ratings to account for any tendency toward over- or underestimation."
      ],
      "metadata": {
        "id": "UDl5znoiXCKN"
      }
    },
    {
      "cell_type": "markdown",
      "source": [
        "To be able preform the hyperparameter search we first have to define the training and validation set.\n",
        "In order to tune these parameters for this k-NN model, we partition the training data set into a\n",
        "training subset with 80% of the data and a validation set with 20% of the data. We define an\n",
        "observation matrix analogous to $\\widetilde{R}$ based specifically on this training subset, as well as the per-user\n",
        "rating average $\\bar{R}_j$ and the mapping from users to ratings i ∈ r(j)."
      ],
      "metadata": {
        "id": "XCfwtdO1SjYx"
      }
    },
    {
      "cell_type": "code",
      "source": [
        "# The model works in general for the various random states I've tried it on,\n",
        "# but we use a random seed here for direct reproducibility\n",
        "np.random.seed(0)\n",
        "shuffle = np.random.choice(range(len(train)), size=len(train), replace=False)\n",
        "train_subset = train[shuffle[:int(.8 * len(shuffle))]]\n",
        "val_subset = train[shuffle[int(.8 * len(shuffle)):]]"
      ],
      "metadata": {
        "id": "RC3IyJybLllk"
      },
      "execution_count": 11,
      "outputs": []
    },
    {
      "cell_type": "code",
      "source": [
        "# This method specifically iterates through users, so it feels more natural to\n",
        "# iterate through a matrix where rows (instead of columns) correspond to users\n",
        "R_u = np.zeros_like(R_twiddle.T) * 1.\n",
        "for t in train_subset:\n",
        "  R_u[t[0]][t[1]] = t[2]\n",
        "\n",
        "R_u"
      ],
      "metadata": {
        "colab": {
          "base_uri": "https://localhost:8080/"
        },
        "id": "1qdJCwaMLmEr",
        "outputId": "3a39ae9c-58a3-4434-a501-abff3e9c41ea"
      },
      "execution_count": 12,
      "outputs": [
        {
          "output_type": "execute_result",
          "data": {
            "text/plain": [
              "array([[0., 3., 0., ..., 0., 0., 0.],\n",
              "       [4., 0., 0., ..., 0., 0., 0.],\n",
              "       [0., 0., 0., ..., 0., 0., 0.],\n",
              "       ...,\n",
              "       [0., 0., 0., ..., 0., 0., 0.],\n",
              "       [0., 0., 0., ..., 0., 0., 0.],\n",
              "       [0., 5., 0., ..., 0., 0., 0.]])"
            ]
          },
          "metadata": {},
          "execution_count": 12
        }
      ]
    },
    {
      "cell_type": "code",
      "source": [
        "train_min, train_max = np.min(train_subset[:, 2]), np.max(train_subset[:, 2])\n",
        "per_user_avgs = {u : np.mean(train_subset[train_subset[:,0] == u][:, 2]) for u in np.unique(train_subset[:,0])}\n",
        "\n",
        "unique_users = np.unique(train_subset[:, 0])\n",
        "users_to_movies = {u: train_subset[train_subset[:, 0] == u] for u in unique_users}"
      ],
      "metadata": {
        "id": "9_Ko5WhlLyRj"
      },
      "execution_count": 13,
      "outputs": []
    },
    {
      "cell_type": "markdown",
      "source": [
        "k-NN estimator function. We define a function for our modified regularized k-nearest neighbors estimator, consistent with the\n",
        "formulation described above."
      ],
      "metadata": {
        "id": "L5b2hu2FSclU"
      }
    },
    {
      "cell_type": "code",
      "source": [
        "def knn_estimator(R_u, K, epsilon, lam_v, lam_l, len_exponent, bias):\n",
        "  R_u_new = R_u.copy()\n",
        "  for i in range(len(R_u)):\n",
        "    if i % 10 == 0:\n",
        "      print(f'\\rEvaluating user #{i}', end='')\n",
        "    diff_matrix = R_u[i] - R_u\n",
        "    prod_matrix = R_u[i] * R_u\n",
        "    diff_matrix[prod_matrix == 0] = 0\n",
        "    overlap_counts = np.count_nonzero(prod_matrix, axis=1) * 1.\n",
        "\n",
        "    # Minor perturbation to handle the divide by zero case\n",
        "    overlap_counts[overlap_counts == 0] = 1e-10\n",
        "    distances = np.sum(epsilon + np.abs(diff_matrix), axis=1) / overlap_counts\n",
        "    sort = np.argsort(distances)\n",
        "\n",
        "    assigned = {m: [] for m in range(len(R_u.T))}\n",
        "    for s in sort:\n",
        "      for j, m in enumerate(users_to_movies[s][:,1]):\n",
        "        if len(assigned[m]) < K:\n",
        "          assigned[m].append(users_to_movies[s][j,2])\n",
        "\n",
        "    for a in assigned:\n",
        "      if len(assigned[a]) == 0:\n",
        "        R_u_new[i, a] = per_user_avgs[i]\n",
        "      elif len(assigned[a]) < K:\n",
        "        avg_val = fmean(assigned[a])\n",
        "        R_u_new[i, a] = (avg_val + lam_v * np.var(assigned[a]) * (per_user_avgs[i] - avg_val) + lam_l / (len(assigned[a]) ** len_exponent) * (per_user_avgs[i] - avg_val))\n",
        "      else:\n",
        "        avg_val = fmean(assigned[a])\n",
        "        R_u_new[i, a] = avg_val + lam_v * np.var(assigned[a]) * (per_user_avgs[i] - avg_val)\n",
        "      R_u_new[i, a] += bias\n",
        "      R_u_new[i, a] = (R_u_new[i, a] if R_u_new[i, a] < train_max else train_max)\n",
        "      R_u_new[i, a] = (R_u_new[i, a] if R_u_new[i, a] > train_min else train_min)\n",
        "\n",
        "  return R_u_new"
      ],
      "metadata": {
        "id": "e_m2m_w-ME72"
      },
      "execution_count": 15,
      "outputs": []
    },
    {
      "cell_type": "markdown",
      "source": [
        "We will now preform a parameter search.\n",
        "At this point, we begin the laborious search for optimal parameters to use for our estimator model,\n",
        "searching for parameters to minimize the validation mean squared error. We use an iterative process (grid search)\n",
        "to iterate through plausible ranges for all our parameters, to fit the best parameters to our problem."
      ],
      "metadata": {
        "id": "0ePPgsm6Q93f"
      }
    },
    {
      "cell_type": "code",
      "source": [
        "param_ranges = {\n",
        "  'epsilon': [0.001 * i for i in range(11)],\n",
        "  'lam_v': [0.04 * i for i in range(16)],\n",
        "  'lam_l': [0.1 * i for i in range(11)],\n",
        "  'p': [3, 2, 1, 1/2, 1/3, 1/4],\n",
        "  'bias': [0.1 * i for i in range(-5, 5)],\n",
        "  'K': [2, 6, 10, 14, 18, 22, 26, 30]\n",
        "}\n",
        "\n",
        "param_range_indices = {p: [i for i in range(len(param_ranges[p]))] for p in param_ranges}\n",
        "next_search_ranges = param_range_indices.copy()\n",
        "\n",
        "# Initialize everything at 0, except for p = 2, bias = 5, and K = 2\n",
        "best_indices = {'epsilon': 0, 'lam_v': 0, 'lam_l': 0, 'p': 2, 'bias': 5, 'K': 2}\n",
        "current_best_mse = np.inf\n",
        "\n",
        "start_time = time.time()\n",
        "\n",
        "something_changed = True\n",
        "while something_changed:\n",
        "  something_changed = False\n",
        "  for key in next_search_ranges:\n",
        "    params = {param: param_ranges[param][best_indices[param]] for param in param_ranges}\n",
        "\n",
        "    for n in next_search_ranges[key]:\n",
        "      params[key] = param_ranges[key][n]\n",
        "      estimator = knn_estimator(R_u, params['K'], params['epsilon'], params['lam_v'], params['lam_l'], params['p'], params['bias'])\n",
        "      mse = np.mean((estimator[(val_subset[:, 0], val_subset[:, 1])] - val_subset[:, 2]) ** 2)\n",
        "      print(f'\\rMSE={mse}, ' + ', '.join([f'{param}={params[param]}' for param in params]))\n",
        "\n",
        "      if mse < current_best_mse:\n",
        "        current_best_mse = mse\n",
        "        something_changed = True\n",
        "        best_indices[key] = n\n",
        "        print(f'New optimal parameter found: {key}={params[key]}')\n",
        "\n",
        "    best_idx = best_indices[key]\n",
        "    next_search_ranges[key] = param_range_indices[key][best_idx - 2 : best_idx + 3]\n",
        "\n",
        "optimal_parameters = {k : param_ranges[k][best_indices[k]] for k in best_indices}\n",
        "print('Optimal parameters found:', optimal_parameters)\n",
        "print(f'Parameter search finished in {time.time() - start_time} seconds')"
      ],
      "metadata": {
        "colab": {
          "base_uri": "https://localhost:8080/"
        },
        "id": "x0rHPZ7WNoGW",
        "outputId": "8f31c1f8-0ac7-4742-a765-5baf34f1877d"
      },
      "execution_count": null,
      "outputs": [
        {
          "output_type": "stream",
          "name": "stdout",
          "text": [
            "MSE=1.0024407715330763, epsilon=0.0, lam_v=0.0, lam_l=0.0, p=1, bias=0.0, K=10\n",
            "New optimal parameter found: epsilon=0.0\n",
            "MSE=0.9687920215330762, epsilon=0.001, lam_v=0.0, lam_l=0.0, p=1, bias=0.0, K=10\n",
            "New optimal parameter found: epsilon=0.001\n",
            "MSE=0.9661563965330763, epsilon=0.002, lam_v=0.0, lam_l=0.0, p=1, bias=0.0, K=10\n",
            "New optimal parameter found: epsilon=0.002\n",
            "MSE=0.9652982715330762, epsilon=0.003, lam_v=0.0, lam_l=0.0, p=1, bias=0.0, K=10\n",
            "New optimal parameter found: epsilon=0.003\n",
            "MSE=0.9673982715330762, epsilon=0.004, lam_v=0.0, lam_l=0.0, p=1, bias=0.0, K=10\n",
            "MSE=0.9712045215330762, epsilon=0.005, lam_v=0.0, lam_l=0.0, p=1, bias=0.0, K=10\n",
            "MSE=0.9744195215330762, epsilon=0.006, lam_v=0.0, lam_l=0.0, p=1, bias=0.0, K=10\n",
            "MSE=0.9741776465330763, epsilon=0.007, lam_v=0.0, lam_l=0.0, p=1, bias=0.0, K=10\n",
            "MSE=0.9752570215330763, epsilon=0.008, lam_v=0.0, lam_l=0.0, p=1, bias=0.0, K=10\n",
            "MSE=0.9766863965330762, epsilon=0.009000000000000001, lam_v=0.0, lam_l=0.0, p=1, bias=0.0, K=10\n",
            "MSE=0.9792220215330761, epsilon=0.01, lam_v=0.0, lam_l=0.0, p=1, bias=0.0, K=10\n",
            "MSE=0.9652982715330762, epsilon=0.003, lam_v=0.0, lam_l=0.0, p=1, bias=0.0, K=10\n",
            "MSE=0.9573351510991138, epsilon=0.003, lam_v=0.04, lam_l=0.0, p=1, bias=0.0, K=10\n",
            "New optimal parameter found: lam_v=0.04\n",
            "MSE=0.9503181515314131, epsilon=0.003, lam_v=0.08, lam_l=0.0, p=1, bias=0.0, K=10\n",
            "New optimal parameter found: lam_v=0.08\n",
            "MSE=0.9442472728299738, epsilon=0.003, lam_v=0.12, lam_l=0.0, p=1, bias=0.0, K=10\n",
            "New optimal parameter found: lam_v=0.12\n",
            "MSE=0.9391225149947963, epsilon=0.003, lam_v=0.16, lam_l=0.0, p=1, bias=0.0, K=10\n",
            "New optimal parameter found: lam_v=0.16\n",
            "MSE=0.9349438780258804, epsilon=0.003, lam_v=0.2, lam_l=0.0, p=1, bias=0.0, K=10\n",
            "New optimal parameter found: lam_v=0.2\n",
            "MSE=0.9317113619232259, epsilon=0.003, lam_v=0.24, lam_l=0.0, p=1, bias=0.0, K=10\n",
            "New optimal parameter found: lam_v=0.24\n",
            "MSE=0.9294249666868332, epsilon=0.003, lam_v=0.28, lam_l=0.0, p=1, bias=0.0, K=10\n",
            "New optimal parameter found: lam_v=0.28\n",
            "MSE=0.928084692316702, epsilon=0.003, lam_v=0.32, lam_l=0.0, p=1, bias=0.0, K=10\n",
            "New optimal parameter found: lam_v=0.32\n",
            "MSE=0.9276905388128325, epsilon=0.003, lam_v=0.36, lam_l=0.0, p=1, bias=0.0, K=10\n",
            "New optimal parameter found: lam_v=0.36\n",
            "MSE=0.9282425061752244, epsilon=0.003, lam_v=0.4, lam_l=0.0, p=1, bias=0.0, K=10\n",
            "MSE=0.9297405944038781, epsilon=0.003, lam_v=0.44, lam_l=0.0, p=1, bias=0.0, K=10\n",
            "MSE=0.9321848034987935, epsilon=0.003, lam_v=0.48, lam_l=0.0, p=1, bias=0.0, K=10\n",
            "MSE=0.9355751334599705, epsilon=0.003, lam_v=0.52, lam_l=0.0, p=1, bias=0.0, K=10\n",
            "MSE=0.939900764597189, epsilon=0.003, lam_v=0.56, lam_l=0.0, p=1, bias=0.0, K=10\n",
            "MSE=0.9451187603665334, epsilon=0.003, lam_v=0.6, lam_l=0.0, p=1, bias=0.0, K=10\n",
            "MSE=0.9276905388128325, epsilon=0.003, lam_v=0.36, lam_l=0.0, p=1, bias=0.0, K=10\n",
            "MSE=0.9257582364743089, epsilon=0.003, lam_v=0.36, lam_l=0.1, p=1, bias=0.0, K=10\n",
            "New optimal parameter found: lam_l=0.1\n",
            "MSE=0.9240086402612123, epsilon=0.003, lam_v=0.36, lam_l=0.2, p=1, bias=0.0, K=10\n",
            "New optimal parameter found: lam_l=0.2\n",
            "MSE=0.9224417501735427, epsilon=0.003, lam_v=0.36, lam_l=0.30000000000000004, p=1, bias=0.0, K=10\n",
            "New optimal parameter found: lam_l=0.30000000000000004\n",
            "MSE=0.9210575662112999, epsilon=0.003, lam_v=0.36, lam_l=0.4, p=1, bias=0.0, K=10\n",
            "New optimal parameter found: lam_l=0.4\n",
            "MSE=0.9198560883744841, epsilon=0.003, lam_v=0.36, lam_l=0.5, p=1, bias=0.0, K=10\n",
            "New optimal parameter found: lam_l=0.5\n",
            "MSE=0.9188373166630952, epsilon=0.003, lam_v=0.36, lam_l=0.6000000000000001, p=1, bias=0.0, K=10\n",
            "New optimal parameter found: lam_l=0.6000000000000001\n",
            "MSE=0.918001251077133, epsilon=0.003, lam_v=0.36, lam_l=0.7000000000000001, p=1, bias=0.0, K=10\n",
            "New optimal parameter found: lam_l=0.7000000000000001\n",
            "MSE=0.9173478916165979, epsilon=0.003, lam_v=0.36, lam_l=0.8, p=1, bias=0.0, K=10\n",
            "New optimal parameter found: lam_l=0.8\n",
            "MSE=0.9168772382814898, epsilon=0.003, lam_v=0.36, lam_l=0.9, p=1, bias=0.0, K=10\n",
            "New optimal parameter found: lam_l=0.9\n",
            "MSE=0.9165892910718083, epsilon=0.003, lam_v=0.36, lam_l=1.0, p=1, bias=0.0, K=10\n",
            "New optimal parameter found: lam_l=1.0\n",
            "MSE=0.9201877190723674, epsilon=0.003, lam_v=0.36, lam_l=1.0, p=3, bias=0.0, K=10\n",
            "MSE=0.918830339971189, epsilon=0.003, lam_v=0.36, lam_l=1.0, p=2, bias=0.0, K=10\n",
            "MSE=0.9165892910718083, epsilon=0.003, lam_v=0.36, lam_l=1.0, p=1, bias=0.0, K=10\n",
            "MSE=0.9175082088922573, epsilon=0.003, lam_v=0.36, lam_l=1.0, p=0.5, bias=0.0, K=10\n",
            "MSE=0.9197591317651399, epsilon=0.003, lam_v=0.36, lam_l=1.0, p=0.3333333333333333, bias=0.0, K=10\n",
            "MSE=0.9217185425837215, epsilon=0.003, lam_v=0.36, lam_l=1.0, p=0.25, bias=0.0, K=10\n",
            "Evaluating user #210"
          ]
        }
      ]
    },
    {
      "cell_type": "markdown",
      "source": [
        "We will now test our best configuration.\n",
        "We seem to have found a relatively optimal set of parameters for our model. Having found these parameters to lower\n",
        "the validation MSE as much as possible, we test our optimal configuration against the test set. For this part, we use\n",
        "the entire training set instead of the subset that was used for parameter tuning, which requires us to redefine a few\n",
        "of our variables accordingly."
      ],
      "metadata": {
        "id": "Alq9ODn0Qy-m"
      }
    },
    {
      "cell_type": "code",
      "source": [
        "R_u = np.zeros_like(R_twiddle.T) * 1.\n",
        "for t in train:\n",
        "  R_u[t[0]][t[1]] = t[2]\n",
        "\n",
        "R_u"
      ],
      "metadata": {
        "id": "pP5NYL7AQXAc"
      },
      "execution_count": null,
      "outputs": []
    },
    {
      "cell_type": "code",
      "source": [
        "train_min, train_max = np.min(train[:, 2]), np.max(train[:, 2])\n",
        "per_user_avgs = {u : np.mean(train[train[:,0] == u][:, 2]) for u in np.unique(train[:,0])}\n",
        "\n",
        "unique_users = np.unique(train[:, 0])\n",
        "users_to_movies = {u: train[train[:, 0] == u] for u in unique_users}"
      ],
      "metadata": {
        "id": "f7KzZpRUQabj"
      },
      "execution_count": null,
      "outputs": []
    },
    {
      "cell_type": "code",
      "source": [
        "lam_v = optimal_parameters['lam_v']\n",
        "lam_l = optimal_parameters['lam_l']\n",
        "epsilon = optimal_parameters['epsilon']\n",
        "K = optimal_parameters['K']\n",
        "bias = optimal_parameters['bias']\n",
        "p = optimal_parameters['p']\n",
        "\n",
        "R_u_new = knn_estimator(R_u, K, epsilon, lam_v, lam_l, p, bias)\n",
        "\n",
        "MSE = np.mean((R_u_new[(test[:, 0], test[:, 1])] - test[:, 2]) ** 2)\n",
        "print(f'\\rMSE={MSE}, K={K}, epsilon={epsilon}, lam_v={lam_v}, lam_l={lam_l}, 'f'bias={bias}, p={p}')"
      ],
      "metadata": {
        "id": "rUvdyEeRQcZq"
      },
      "execution_count": null,
      "outputs": []
    },
    {
      "cell_type": "markdown",
      "source": [
        "We observe that with the correct choice of parameters, the model successfully attains a training error of\n",
        "below 0.9, often lower than the minimal validation layer it attained. This makes sense since we are this\n",
        "time training on the entire training data set, which is larger. We can drive this mean squared error even lower\n",
        "with a more refined choice of parameters for our model, but what we have here is sufficient to demonstrate the process."
      ],
      "metadata": {
        "id": "WZyRGjAXRE04"
      }
    }
  ],
  "metadata": {
    "kernelspec": {
      "display_name": "Python 3",
      "language": "python",
      "name": "python3"
    },
    "language_info": {
      "codemirror_mode": {
        "name": "ipython",
        "version": 3
      },
      "file_extension": ".py",
      "mimetype": "text/x-python",
      "name": "python",
      "nbconvert_exporter": "python",
      "pygments_lexer": "ipython3",
      "version": "3.6.7"
    },
    "colab": {
      "provenance": [],
      "toc_visible": true,
      "include_colab_link": true
    }
  },
  "nbformat": 4,
  "nbformat_minor": 0
}
